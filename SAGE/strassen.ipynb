{
 "cells": [
  {
   "cell_type": "markdown",
   "metadata": {},
   "source": [
    "# Matrixmultiplkationsverfahren\n",
    "\n",
    "Wir werden uns beschäftigen mit Matrixmultiplication so wie gelernt in LinAlg 1 und ein neues Verfahren betrachten, dass theoretisch schneller sein soll\n",
    "\n",
    "## LinAlg 1 style\n",
    "\n",
    "In LinAlg 1 haben wir folgendes Verfahren gelernt um das Matrixprodukt $AB$ von einer $m \\times n$ Matrix $A = (a_{ij})$ und $n \\times k$ Matrix $B = (b_{ij})$ aus zu rechnen:\n",
    "\n",
    "$$(AB)_{ij} = \\sum_{p=1}^n a_{ip}b_{pj}$$\n",
    "\n",
    "Eine bemerksame Person sieht, dass $mnk$ Multiplikationen notwendig sind um das Produkt aus zu rechnen: $n$ um $(AB)_{ij}$ aus zu rechnen und $m$ und $n$ möglichkeiten für $i$ bezüglich $j$.\n",
    "\n"
   ]
  },
  {
   "cell_type": "code",
   "execution_count": null,
   "metadata": {
    "scrolled": true
   },
   "outputs": [],
   "source": [
    "from time import sleep\n",
    "delay = 0.001\n",
    "def multiply(a,b,d):\n",
    "    sleep(float(d))\n",
    "    return a*b\n",
    "\n",
    "def linalg1multiply(A,B):\n",
    "    if (A.ncols() != B.nrows()):\n",
    "        print('dimensions disagree')\n",
    "        return\n",
    "    AB = matrix(RR, A.nrows(), B.ncols())\n",
    "    for i in range(A.nrows()):\n",
    "        for j in range(B.ncols()):\n",
    "            for k in range(A.ncols()):\n",
    "                AB[i,j] += multiply(A[i,k],B[k,j],delay)\n",
    "                # AB[i,j] += A[i,k]*B[k,j]\n",
    "    return AB\n",
    "\n",
    "A = random_matrix(RR,5,6)\n",
    "B = random_matrix(RR,6,4)\n",
    "\n",
    "print(linalg1multiply(A,B) - A*B)"
   ]
  },
  {
   "cell_type": "markdown",
   "metadata": {},
   "source": [
    "## Strassen style\n",
    "\n",
    "Im Jahr 1969 ist es Volker Strassen aufgefallen, dass optimaler kann. Obwohl es uns soweit viel Spass gemacht hat, kann mann sich vorstellen, dass es langweilig ist um sehr grosse Matrizen miteinander zu multiplizieren. Computer haben ungefär dasselbe; es ist 'teuerer' für einen Computer um zwei zahlen miteinander zu multiplizieren, als sie zu addieren. Jetzt schauwen wir mal die nächste Matrizen an:\n",
    "\n",
    "$$A = \\begin{pmatrix}a_{11} & a_{12}\\\\ a_{21} & a_{22}\\end{pmatrix}, \\quad B = \\begin{pmatrix}b_{11} & b_{12}\\\\ b_{21} & b_{22}\\end{pmatrix}$$\n",
    "\n",
    "und wir definieren\n",
    "\n",
    "\\begin{align*}\n",
    "s_1&= (a_{11} + a_{22})(b_{11} + b_{22})\\\\\n",
    "s_2 &= (a_{21} + a_{22})b_{11}\\\\\n",
    "s_3 &= a_{11}(b_{12} - b_{22})\\\\\n",
    "s_4 &= a_{22}(b_{21} - b_{11})\\\\\n",
    "s_5 &= (a_{11} + a_{12})b_{22}\\\\\n",
    "s_6 &= (a_{21} - a_{11})(b_{11} + b_{12})\\\\\n",
    "s_7 &= (a_{12} - a_{22})(b_{21} + b_{22})\n",
    "\\end{align*}\n",
    "\n",
    "Jeztz setzen wir\n",
    "\n",
    "$$S = \\begin{pmatrix}s_1 + s_4 -  s_5 + s_7 & s_3 + s_5 \\\\ s_2 + s_4 & s_1 - s_2 + s_3 + s_6\\end{pmatrix}$$\n",
    "\n",
    "und überpfüfen dass $S = AB$. Die benötigte Anzahl der Multiplikationen ist $7$ und das ist weniger als $8$! Dies meint dass für $2^n \\times 2^n$ Matrizen, dieses Verfahren nur $O(N^{\\log(7)}) \\approx O(N^{2.8074})$ multiplkationen braucht stat $O(N^3)$, wobei $N = 2^n$\n",
    "\n"
   ]
  },
  {
   "cell_type": "code",
   "execution_count": null,
   "metadata": {
    "scrolled": false
   },
   "outputs": [],
   "source": [
    "def strassenmultiply(A,B):\n",
    "    if (A.nrows() == 1 | B.ncols() == 1):\n",
    "        return multiply(A,B,delay)\n",
    "        # return A*B\n",
    "    d = A.nrows() / 2\n",
    "    A11 = A.submatrix(0,0,d,d)\n",
    "    A21 = A.submatrix(d,0,-1,d)\n",
    "    A12 = A.submatrix(0,d,d,-1)\n",
    "    A22 = A.submatrix(d,d,-1,-1)\n",
    "\n",
    "    B11 = B.submatrix(0,0,d,d)\n",
    "    B21 = B.submatrix(d,0,-1,d)\n",
    "    B12 = B.submatrix(0,d,d,-1)\n",
    "    B22 = B.submatrix(d,d,-1,-1)\n",
    "    s1 = strassenmultiply(A11 + A22, B11 + B22)\n",
    "    s2 = strassenmultiply(A21 + A22, B11)\n",
    "    s3 = strassenmultiply(A11, B12 - B22)\n",
    "    s4 = strassenmultiply(A22, B21 - B11)\n",
    "    s5 = strassenmultiply(A11 + A12, B22)\n",
    "    s6 = strassenmultiply(A21 - A11, B11 + B12)\n",
    "    s7 = strassenmultiply(A12 - A22, B21 + B22)\n",
    "    return block_matrix([[s1 + s4 - s5 + s7, s3 + s5], [s2 + s4, s1 - s2 + s3 + s6]])\n",
    "\n",
    "C = random_matrix(RR, 2^5)\n",
    "D = random_matrix(RR, 2^5)\n",
    "#print(norm(strassenmultiply(C,D) - C*D))\n",
    "\n",
    "w = walltime()\n",
    "linalg1multiply(C,D)\n",
    "w1 = walltime(w)\n",
    "w = walltime()\n",
    "strassenmultiply(C,D)\n",
    "w2 = walltime(w)\n",
    "print('LinAlg Multiplikation dauert', w1, 'Sekunden')\n",
    "print('Strassen Multiplikation dauert', w2, 'Sekunden')"
   ]
  }
 ],
 "metadata": {
  "kernelspec": {
   "display_name": "SageMath 9.8",
   "language": "sage",
   "name": "sagemath-9.8"
  },
  "language_info": {
   "codemirror_mode": {
    "name": "ipython",
    "version": 3
   },
   "file_extension": ".py",
   "mimetype": "text/x-python",
   "name": "python",
   "nbconvert_exporter": "python",
   "pygments_lexer": "ipython3",
   "version": "3.11.1"
  }
 },
 "nbformat": 4,
 "nbformat_minor": 4
}
